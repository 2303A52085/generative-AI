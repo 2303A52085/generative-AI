{
  "nbformat": 4,
  "nbformat_minor": 0,
  "metadata": {
    "colab": {
      "provenance": [],
      "authorship_tag": "ABX9TyOUvBDDu+h3vOQXyc/1at9F",
      "include_colab_link": true
    },
    "kernelspec": {
      "name": "python3",
      "display_name": "Python 3"
    },
    "language_info": {
      "name": "python"
    }
  },
  "cells": [
    {
      "cell_type": "markdown",
      "metadata": {
        "id": "view-in-github",
        "colab_type": "text"
      },
      "source": [
        "<a href=\"https://colab.research.google.com/github/2303A52085/generative-AI/blob/main/untitled9.ipynb\" target=\"_parent\"><img src=\"https://colab.research.google.com/assets/colab-badge.svg\" alt=\"Open In Colab\"/></a>"
      ]
    },
    {
      "cell_type": "markdown",
      "source": [
        "2303A52085\n",
        "ASS-2"
      ],
      "metadata": {
        "id": "U5ebQnL_NSVY"
      }
    },
    {
      "cell_type": "code",
      "execution_count": null,
      "metadata": {
        "colab": {
          "base_uri": "https://localhost:8080/"
        },
        "id": "-eVNYgA7NQkG",
        "outputId": "8ed093d5-48c3-4557-b83f-d9aca6b2a6c2"
      },
      "outputs": [
        {
          "output_type": "stream",
          "name": "stdout",
          "text": [
            "Optimal Solution:\n",
            "Number of units of Chocolate A (x1): 2.00\n",
            "Number of units of Chocolate B (x2): 3.00\n",
            "Maximum Profit: Rs 27.00\n"
          ]
        }
      ],
      "source": [
        "from scipy.optimize import linprog\n",
        "\n",
        "# Coefficients of the objective function (maximize 6x1 + 5x2)\n",
        "c = [-6, -5]  # Negative because linprog minimizes by default\n",
        "\n",
        "# Coefficients of the inequality constraints\n",
        "A = [[1, 1],     # Milk constraint: x1 + x2 <= 5\n",
        "     [3, 2]]     # Choco constraint: 3x1 + 2x2 <= 12\n",
        "b = [5, 12]      # RHS of the constraints\n",
        "\n",
        "# Bounds for the variables\n",
        "x_bounds = [(0, None),  # x1 >= 0\n",
        "            (0, None)]  # x2 >= 0\n",
        "\n",
        "# Solve the linear programming problem\n",
        "result = linprog(c, A_ub=A, b_ub=b, bounds=x_bounds, method='highs')\n",
        "\n",
        "# Display the results\n",
        "if result.success:\n",
        "    print(\"Optimal Solution:\")\n",
        "    print(f\"Number of units of Chocolate A (x1): {result.x[0]:.2f}\")\n",
        "    print(f\"Number of units of Chocolate B (x2): {result.x[1]:.2f}\")\n",
        "    print(f\"Maximum Profit: Rs {-result.fun:.2f}\")\n",
        "else:\n",
        "    print(\"No solution found.\")"
      ]
    },
    {
      "cell_type": "code",
      "source": [
        "import numpy as np\n",
        "from sklearn.metrics import accuracy_score, precision_score, recall_score, f1_score, confusion_matrix\n",
        "\n",
        "# Define the actual and predicted values\n",
        "y_actual = np.array([0, 0, 0, 0, 0, 0, 0])\n",
        "y_pred = np.array([1, 1, 0, 2, 1, 0, 2])\n",
        "\n",
        "# Calculate accuracy\n",
        "accuracy = accuracy_score(y_actual, y_pred)\n",
        "\n",
        "# Calculate precision\n",
        "precision = precision_score(y_actual, y_pred, average='weighted')\n",
        "\n",
        "# Calculate recall\n",
        "recall = recall_score(y_actual, y_pred, average='weighted')\n",
        "\n",
        "# Calculate F1-score\n",
        "f1 = f1_score(y_actual, y_pred, average='weighted')\n",
        "\n",
        "# Calculate confusion matrix\n",
        "cm = confusion_matrix(y_actual, y_pred)\n",
        "\n",
        "# Print the results\n",
        "print(\"Accuracy:\", accuracy)\n",
        "print(\"Precision:\", precision)\n",
        "print(\"Recall:\", recall)\n",
        "print(\"F1-score:\", f1)\n",
        "print(\"Confusion Matrix:\\n\", cm)"
      ],
      "metadata": {
        "colab": {
          "base_uri": "https://localhost:8080/"
        },
        "id": "ajoVQSKBNhZf",
        "outputId": "0a16b419-9d4d-4674-a5f1-0cb9e9e0a70b"
      },
      "execution_count": null,
      "outputs": [
        {
          "output_type": "stream",
          "name": "stdout",
          "text": [
            "Accuracy: 0.2857142857142857\n",
            "Precision: 1.0\n",
            "Recall: 0.2857142857142857\n",
            "F1-score: 0.44444444444444436\n",
            "Confusion Matrix:\n",
            " [[2 3 2]\n",
            " [0 0 0]\n",
            " [0 0 0]]\n"
          ]
        },
        {
          "output_type": "stream",
          "name": "stderr",
          "text": [
            "/usr/local/lib/python3.11/dist-packages/sklearn/metrics/_classification.py:1565: UndefinedMetricWarning: Recall is ill-defined and being set to 0.0 in labels with no true samples. Use `zero_division` parameter to control this behavior.\n",
            "  _warn_prf(average, modifier, f\"{metric.capitalize()} is\", len(result))\n"
          ]
        }
      ]
    }
  ]
}