{
  "nbformat": 4,
  "nbformat_minor": 0,
  "metadata": {
    "colab": {
      "provenance": [],
      "authorship_tag": "ABX9TyP/7eQNHaTjZSdjikVY3Jw2",
      "include_colab_link": true
    },
    "kernelspec": {
      "name": "python3",
      "display_name": "Python 3"
    },
    "language_info": {
      "name": "python"
    }
  },
  "cells": [
    {
      "cell_type": "markdown",
      "metadata": {
        "id": "view-in-github",
        "colab_type": "text"
      },
      "source": [
        "<a href=\"https://colab.research.google.com/github/2303A52085/generative-AI/blob/main/Assignment_3.ipynb\" target=\"_parent\"><img src=\"https://colab.research.google.com/assets/colab-badge.svg\" alt=\"Open In Colab\"/></a>"
      ]
    },
    {
      "cell_type": "markdown",
      "source": [
        "2303A52085, Ass-3\n"
      ],
      "metadata": {
        "id": "XOD_sv5rPfAQ"
      }
    },
    {
      "cell_type": "markdown",
      "source": [
        "1. (1 ponto) Write Python code without using any libraries to find the value of x at which the\n",
        "function f(x) shown in equation (1) has minimum value. Consider Gradient Descent Algorithm.\n",
        "f(x) = 5x\n",
        "4 + 3x\n",
        "2 + 10"
      ],
      "metadata": {
        "id": "lFVu56XNQBco"
      }
    },
    {
      "cell_type": "code",
      "execution_count": 1,
      "metadata": {
        "colab": {
          "base_uri": "https://localhost:8080/"
        },
        "id": "zydT396GO3UU",
        "outputId": "dcb92915-86fd-4201-dc42-bfbfdf9f45db"
      },
      "outputs": [
        {
          "output_type": "stream",
          "name": "stdout",
          "text": [
            "The value of x at which f(x) is minimized: -0.29999016244485643\n"
          ]
        }
      ],
      "source": [
        "def gradient_descent_f(x_start, learning_rate, tolerance):\n",
        "    x = x_start\n",
        "    while True:\n",
        "        gradient = 10 * x + 3  # The derivative of f(x) = 5x^2 + 3x + 10\n",
        "        new_x = x - learning_rate * gradient\n",
        "        if abs(new_x - x) < tolerance:\n",
        "            break\n",
        "        x = new_x\n",
        "    return x\n",
        "\n",
        "# Example usage\n",
        "x_min = gradient_descent_f(x_start=0, learning_rate=0.01, tolerance=1e-6)\n",
        "print(f\"The value of x at which f(x) is minimized: {x_min}\")"
      ]
    },
    {
      "cell_type": "markdown",
      "source": [
        "2. (1 ponto) Write Python code without using any libraries to find the value of x and y at which the\n",
        "function g(x,y) shown in equation (2) has minimum value. Consider Gradient Descent Algorithm.\n",
        "f(x) = 3x\n",
        "2 + 5e\n",
        "−y + 10"
      ],
      "metadata": {
        "id": "-bvxVRwzQm63"
      }
    },
    {
      "cell_type": "code",
      "source": [
        "def gradient_descent_g(x_start, y_start, learning_rate, tolerance):\n",
        "    x, y = x_start, y_start\n",
        "\n",
        "    # Define the gradients of g(x, y) = (1/2)(x^2 + y^2)\n",
        "    def gradient_x(x):\n",
        "        return x  # ∂g/∂x = x\n",
        "\n",
        "    def gradient_y(y):\n",
        "        return y  # ∂g/∂y = y\n",
        "\n",
        "    while True:\n",
        "        # Compute gradients\n",
        "        grad_x = gradient_x(x)\n",
        "        grad_y = gradient_y(y)\n",
        "\n",
        "        # Update x and y\n",
        "        new_x = x - learning_rate * grad_x\n",
        "        new_y = y - learning_rate * grad_y\n",
        "\n",
        "        # Check for convergence\n",
        "        if abs(new_x - x) < tolerance and abs(new_y - y) < tolerance:\n",
        "            break\n",
        "\n",
        "        x, y = new_x, new_y\n",
        "\n",
        "    return x, y\n",
        "\n",
        "# Example usage\n",
        "x_min, y_min = gradient_descent_g(x_start=10, y_start=10, learning_rate=0.1, tolerance=1e-6)\n",
        "print(f\"The value of x, y at which g(x, y) is minimized: x = {x_min}, y = {y_min}\")"
      ],
      "metadata": {
        "colab": {
          "base_uri": "https://localhost:8080/"
        },
        "id": "A2tzcXEWTrAg",
        "outputId": "46648946-f7e4-437a-c515-ec931d85f4d5"
      },
      "execution_count": 4,
      "outputs": [
        {
          "output_type": "stream",
          "name": "stdout",
          "text": [
            "The value of x, y at which g(x, y) is minimized: x = 9.12034456046445e-06, y = 9.12034456046445e-06\n"
          ]
        }
      ]
    },
    {
      "cell_type": "markdown",
      "source": [
        "3. (1 ponto) Write Python code without using any libraries to find the value of x at which the\n",
        "sigmoid function z(x) shown in equation (3) has minimum value. Consider Gradient Descent\n",
        "Algorithm.\n",
        "z(x) = 1/\n",
        "1 + e\n",
        "−x"
      ],
      "metadata": {
        "id": "R1_0SvJ8T4Q6"
      }
    },
    {
      "cell_type": "code",
      "source": [
        "def sigmoid(x):\n",
        "    return 1 / (1 + (2.71828 ** -x))\n",
        "\n",
        "def gradient_descent_sigmoid(x_start, learning_rate, tolerance):\n",
        "    x = x_start\n",
        "    while True:\n",
        "        z = sigmoid(x)\n",
        "        gradient = z * (1 - z)\n",
        "        new_x = x - learning_rate * gradient\n",
        "        if abs(new_x - x) < tolerance:\n",
        "            break\n",
        "        x = new_x\n",
        "    return x\n",
        "\n",
        "# Example usage\n",
        "x_min = gradient_descent_sigmoid(x_start=0, learning_rate=0.01, tolerance=1e-6)\n",
        "print(f\"The value of x at which the sigmoid function is minimized: {x_min}\")"
      ],
      "metadata": {
        "colab": {
          "base_uri": "https://localhost:8080/"
        },
        "id": "tqSZ3hFyTt3g",
        "outputId": "d0b2252f-7dfe-484b-9eed-b93a691bf138"
      },
      "execution_count": 5,
      "outputs": [
        {
          "output_type": "stream",
          "name": "stdout",
          "text": [
            "The value of x at which the sigmoid function is minimized: -9.210146767539557\n"
          ]
        }
      ]
    },
    {
      "cell_type": "markdown",
      "source": [
        "4. (1 ponto) Write Python code without using any libraries to find the value of optimal values of\n",
        "model parameters M and C such that the model’s Square Error Value shown in equation 4 will\n",
        "be minimum. It means model gives output close to expected output as shown in Figure 1\n",
        "Figura 1: AI Model\n",
        "SE = (ExpectedOutput − P redictedOutput)\n",
        "2"
      ],
      "metadata": {
        "id": "l0mWsvCvUObJ"
      }
    },
    {
      "cell_type": "code",
      "source": [
        "def gradient_descent_linear_regression(x_vals, y_vals, M_start, C_start, learning_rate, tolerance):\n",
        "    M, C = M_start, C_start\n",
        "    N = len(x_vals)\n",
        "\n",
        "    while True:\n",
        "        gradient_M = (-2 / N) * sum(x * (y - (M * x + C)) for x, y in zip(x_vals, y_vals))\n",
        "        gradient_C = (-2 / N) * sum((y - (M * x + C)) for x, y in zip(x_vals, y_vals))\n",
        "\n",
        "        new_M = M - learning_rate * gradient_M\n",
        "        new_C = C - learning_rate * gradient_C\n",
        "\n",
        "        if abs(new_M - M) < tolerance and abs(new_C - C) < tolerance:\n",
        "            break\n",
        "\n",
        "        M, C = new_M, new_C\n",
        "\n",
        "    return M, C\n",
        "\n",
        "# Example usage\n",
        "x_vals = [1, 2, 3, 4, 5]  # Sample data for x\n",
        "y_vals = [2, 4, 5, 4, 5]  # Sample data for y\n",
        "\n",
        "M_opt, C_opt = gradient_descent_linear_regression(x_vals, y_vals, M_start=0, C_start=0, learning_rate=0.01, tolerance=1e-6)\n",
        "print(f\"Optimal M: {M_opt}, Optimal C: {C_opt}\")"
      ],
      "metadata": {
        "colab": {
          "base_uri": "https://localhost:8080/"
        },
        "id": "gTwDpEGlUTYA",
        "outputId": "a62751f4-04f6-4b9e-ade9-670430582c2c"
      },
      "execution_count": 6,
      "outputs": [
        {
          "output_type": "stream",
          "name": "stdout",
          "text": [
            "Optimal M: 0.6000816915982937, Optimal C: 2.1997050674095555\n"
          ]
        }
      ]
    }
  ]
}